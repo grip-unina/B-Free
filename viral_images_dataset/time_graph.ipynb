{
 "cells": [
  {
   "cell_type": "markdown",
   "id": "14751486-8fc1-46c1-b96b-b574fcd2a5f7",
   "metadata": {},
   "source": [
    "# Import data"
   ]
  },
  {
   "cell_type": "code",
   "execution_count": null,
   "id": "3543f657-6f08-430a-8808-aa11c1c824c7",
   "metadata": {},
   "outputs": [],
   "source": [
    "import matplotlib.pyplot as plt\n",
    "import seaborn as sns\n",
    "import pandas as pd\n",
    "import numpy as np\n",
    "\n",
    "\n",
    "tab = pd.read_csv('BFree_viral_images.csv')[['filename','label','days_since_1st_post']]\n",
    "score_csv = pd.read_csv('/path/to/score.csv')\n",
    "tab = tab.merge(score_csv)\n",
    "\n",
    "# score csv must have the column 'filename' and the LOGIT scores of method1, method2, ...\n",
    "# the predictions must be LOGITS (in the range [-inf,inf])\n",
    "\n",
    "# merged csv example:\n",
    "#            filename               | label | days_since_1st_post |  B-Free  |    DMID\n",
    "# ----------------------------------|-------|---------------------|----------|----------\n",
    "# REAL/Ed7JvuVXsAUTp-j/img00400.jpg | REAL  |     0.000000        |-4.431049 | -9.541626\n",
    "# FAKE/FsL1ChiXwAAaVFk/img03517.jpg | FAKE  |     5.747164        | 5.462078 |  0.092956\n",
    "\n",
    "algs = [_ for _ in tab.columns if _ not in ['filename','label','days_since_1st_post']]\n",
    "print('Methods: ', algs)\n",
    "tab"
   ]
  },
  {
   "cell_type": "markdown",
   "id": "332dbfcd-613b-4c1c-9f04-3116b707891c",
   "metadata": {},
   "source": [
    "# Compute metrics"
   ]
  },
  {
   "cell_type": "code",
   "execution_count": null,
   "id": "745878fa-e71c-4d8a-a2c6-224fcbcafc23",
   "metadata": {},
   "outputs": [],
   "source": [
    "# ---- if you have SCORE PROBABILITIES instead of LOGITS, \n",
    "# ---- please change the threshold accordingly (e.g., from 0 to 0.5)\n",
    "threshold = 0\n",
    "\n",
    "tab_delta = tab.sort_values('days_since_1st_post').copy().reset_index(drop=True)\n",
    "for alg in algs:\n",
    "    # TPR, TNR\n",
    "    tab_delta[alg+'_tpr'] = np.cumsum([(a> threshold)&(b=='FAKE') for a,b in zip(tab_delta[alg],tab_delta['label'])]) / np.cumsum([(b=='FAKE') for a,b in zip(tab_delta[alg],tab_delta['label'])])\n",
    "    tab_delta[alg+'_tnr'] = np.cumsum([(a<=threshold)&(b!='FAKE') for a,b in zip(tab_delta[alg],tab_delta['label'])]) / np.cumsum([(b!='FAKE') for a,b in zip(tab_delta[alg],tab_delta['label'])])\n",
    "    # balanced accuracy\n",
    "    tab_delta[alg+'_acc']= 100*(tab_delta[alg+'_tpr'] + tab_delta[alg+'_tnr'])/2\n",
    "\n",
    "# ignoring the first few, as we have too few samples for accuracy    \n",
    "tab_delta = tab_delta.iloc[5:]"
   ]
  },
  {
   "cell_type": "markdown",
   "id": "875a749f-c8af-4116-a5d7-1cb08b72d47a",
   "metadata": {},
   "source": [
    "# Plot graph"
   ]
  },
  {
   "cell_type": "code",
   "execution_count": null,
   "id": "44e4c301-66c6-42d3-966c-097cd12f3bf4",
   "metadata": {},
   "outputs": [],
   "source": [
    "sns.set_theme(context='notebook', style='darkgrid')\n",
    "\n",
    "fig = plt.figure(figsize=(5,3), dpi=100)\n",
    "for idx, alg in enumerate(algs):\n",
    "    ax = sns.lineplot(data=tab_delta, x='days_since_1st_post', y=alg+'_acc', label=alg, linewidth=2.5)\n",
    "legend = plt.legend(loc='center left', bbox_to_anchor=(1, 0.5), fontsize=14)\n",
    "\n",
    "plt.xlim([0.1,100])\n",
    "plt.ylim([50,100])\n",
    "plt.ylabel('bAcc (%)')\n",
    "plt.xlabel('Period (days)')\n",
    "plt.xscale(\"log\")\n",
    "\n",
    "ax.minorticks_on()\n",
    "ax.grid(True, which='major', axis='x', linestyle='-',  linewidth=1)   # Log grid on x-axis\n",
    "ax.grid(True, which='minor', axis='x', linestyle='--', linewidth=0.7) # Log grid on x-axis\n",
    "ax.grid(True, which='major', axis='y', linestyle='-',  linewidth=1)   # Normal grid on y-axis\n",
    "\n",
    "ax.set_xticks([0.1, 1, 10, 100])\n",
    "ax.set_xticklabels([\"0\", \"1\", \"10\", \"100\"])\n",
    "\n",
    "plt.show()"
   ]
  }
 ],
 "metadata": {
  "kernelspec": {
   "display_name": "Python [conda env:fabrizio.guillaro-llava]",
   "language": "python",
   "name": "conda-env-fabrizio.guillaro-llava-py"
  },
  "language_info": {
   "codemirror_mode": {
    "name": "ipython",
    "version": 3
   },
   "file_extension": ".py",
   "mimetype": "text/x-python",
   "name": "python",
   "nbconvert_exporter": "python",
   "pygments_lexer": "ipython3",
   "version": "3.10.12"
  }
 },
 "nbformat": 4,
 "nbformat_minor": 5
}
